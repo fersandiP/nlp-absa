{
 "cells": [
  {
   "cell_type": "code",
   "execution_count": 1,
   "metadata": {},
   "outputs": [],
   "source": [
    "import pandas as pd\n",
    "import xml.etree.ElementTree as ET"
   ]
  },
  {
   "cell_type": "code",
   "execution_count": 2,
   "metadata": {},
   "outputs": [],
   "source": [
    "tree = ET.parse(\"dataset/training_set.xml\")\n",
    "root = tree.getroot()"
   ]
  },
  {
   "cell_type": "code",
   "execution_count": 3,
   "metadata": {},
   "outputs": [],
   "source": [
    "def xmlToDict(root):\n",
    "    def processChild(child):\n",
    "        text = child[0].text\n",
    "        aspectsTree = child[1]\n",
    "        aspects = {aspect.attrib['category'] : aspect.attrib['polarity']\n",
    "                    for aspect in aspectsTree}\n",
    "        return dict({'text' : text}, **aspects)\n",
    "    return {child.attrib['rid'] : processChild(child) for child in root}"
   ]
  },
  {
   "cell_type": "code",
   "execution_count": 4,
   "metadata": {},
   "outputs": [],
   "source": [
    "def dictToAspectDf(data):\n",
    "    def generateLabel(listAspects):\n",
    "        aspects = ['FOOD', 'AMBIANCE', 'PRICE', 'SERVICE']\n",
    "        return {aspect : (aspect in listAspects) for aspect in aspects}\n",
    "    newData = {}\n",
    "    for k, v in data.items():\n",
    "        newData[k] = {'text' : v['text'], **generateLabel(v.keys())}\n",
    "    return pd.DataFrame.from_dict(newData, orient='index')\n",
    "        \n",
    "def dictToSentimentDf(data):\n",
    "    aspects = ['FOOD', 'AMBIANCE', 'PRICE', 'SERVICE']\n",
    "    def generateLabel(dictAspects):\n",
    "        listAspects = dictAspects.keys()\n",
    "        return {aspect : (dictAspects[aspect] if aspect in listAspects else 'UNKNOWN') for aspect in aspects}\n",
    "    newData = {}\n",
    "    for k, v in data.items():\n",
    "        newData[k] = {'text' : v['text'], **generateLabel(v)}\n",
    "    return pd.DataFrame.from_dict(newData, orient='index')"
   ]
  },
  {
   "cell_type": "code",
   "execution_count": 5,
   "metadata": {},
   "outputs": [],
   "source": [
    "data = xmlToDict(root)"
   ]
  },
  {
   "cell_type": "code",
   "execution_count": 6,
   "metadata": {},
   "outputs": [],
   "source": [
    "dictToSentimentDf(data).to_csv('dataset/preProcessSentiment.csv')\n",
    "dictToAspectDf(data).to_csv('dataset/preProcessAspect.csv')"
   ]
  },
  {
   "cell_type": "code",
   "execution_count": null,
   "metadata": {},
   "outputs": [],
   "source": []
  }
 ],
 "metadata": {
  "kernelspec": {
   "display_name": "Python 3",
   "language": "python",
   "name": "python3"
  },
  "language_info": {
   "codemirror_mode": {
    "name": "ipython",
    "version": 3
   },
   "file_extension": ".py",
   "mimetype": "text/x-python",
   "name": "python",
   "nbconvert_exporter": "python",
   "pygments_lexer": "ipython3",
   "version": "3.6.5"
  }
 },
 "nbformat": 4,
 "nbformat_minor": 2
}
